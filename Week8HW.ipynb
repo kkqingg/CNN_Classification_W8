{
 "cells": [
  {
   "cell_type": "code",
   "execution_count": 1,
   "id": "f5fa9562",
   "metadata": {},
   "outputs": [
    {
     "name": "stderr",
     "output_type": "stream",
     "text": [
      "2023-11-19 07:42:14.484073: I tensorflow/core/util/util.cc:169] oneDNN custom operations are on. You may see slightly different numerical results due to floating-point round-off errors from different computation orders. To turn them off, set the environment variable `TF_ENABLE_ONEDNN_OPTS=0`.\n"
     ]
    }
   ],
   "source": [
    "import numpy as np\n",
    "import matplotlib.pyplot as plt\n",
    "%matplotlib inline\n",
    "import tensorflow as tf\n",
    "from tensorflow import keras\n",
    "from tensorflow.keras.preprocessing.image import load_img"
   ]
  },
  {
   "cell_type": "markdown",
   "id": "6fc30266",
   "metadata": {},
   "source": [
    "# Pre-processing image data"
   ]
  },
  {
   "cell_type": "code",
   "execution_count": null,
   "id": "84ee2a28",
   "metadata": {
    "scrolled": false
   },
   "outputs": [],
   "source": [
    "#load image data \n",
    "#!!!!! RUN ONLY FOR FIRST TIME\n",
    "!wget https://github.com/SVizor42/ML_Zoomcamp/releases/download/bee-wasp-data/data.zip\n",
    "!unzip data.zip"
   ]
  },
  {
   "cell_type": "code",
   "execution_count": 5,
   "id": "7ce2d242",
   "metadata": {
    "scrolled": false
   },
   "outputs": [
    {
     "name": "stdout",
     "output_type": "stream",
     "text": [
      "Found 3677 images belonging to 2 classes.\n"
     ]
    }
   ],
   "source": [
    "from tensorflow.keras.preprocessing.image import ImageDataGenerator\n",
    "train_gen = ImageDataGenerator(rescale=1./255)\n",
    "train_dir = './data/train'\n",
    "train_ds = train_gen.flow_from_directory(train_dir,\n",
    "                                        batch_size = 20,                                        \n",
    "                                        target_size=(150,150),\n",
    "                                        class_mode='binary',\n",
    "                                        shuffle = True)"
   ]
  },
  {
   "cell_type": "code",
   "execution_count": 3,
   "id": "80ac00bf",
   "metadata": {},
   "outputs": [
    {
     "data": {
      "text/plain": [
       "{'bee': 0, 'wasp': 1}"
      ]
     },
     "execution_count": 3,
     "metadata": {},
     "output_type": "execute_result"
    }
   ],
   "source": [
    "train_ds.class_indices"
   ]
  },
  {
   "cell_type": "code",
   "execution_count": 6,
   "id": "f842aef8",
   "metadata": {},
   "outputs": [
    {
     "name": "stdout",
     "output_type": "stream",
     "text": [
      "Found 918 images belonging to 2 classes.\n"
     ]
    }
   ],
   "source": [
    "#create image data preprocessing for val dataset\n",
    "test_gen = ImageDataGenerator(rescale = 1./255)\n",
    "test_dir = './data/test'\n",
    "test_ds = test_gen.flow_from_directory(test_dir,\n",
    "                                       target_size=(150,150),\n",
    "                                       batch_size = 20,\n",
    "                                       class_mode='binary',\n",
    "                                       shuffle= True)"
   ]
  },
  {
   "cell_type": "markdown",
   "id": "bee51c34",
   "metadata": {},
   "source": [
    "# CNN MODEL\n",
    "#input shape(150,150,3) \n",
    "#conv2D 32 filters , kernel size = (3,3), relu activation\n",
    "#MaxPooling2D(2,2)\n",
    "#Flatten()\n",
    "#Dense(64, relu activation)\n",
    "#Dense(1,sigmoid activation)\n",
    "#model.compile(optimizer = SGD(lr= 0.002, momentum =0.8)\n",
    "\n"
   ]
  },
  {
   "cell_type": "code",
   "execution_count": 7,
   "id": "b659d60e",
   "metadata": {},
   "outputs": [],
   "source": [
    "from keras.models import Sequential\n",
    "from keras.layers import Dense,Conv2D,Flatten,MaxPooling2D\n",
    "from tensorflow.keras.optimizers import SGD\n",
    "\n",
    "def create_model():\n",
    "    #Create model\n",
    "    model = Sequential()\n",
    "    \n",
    "    # Add model layers\n",
    "    model.add(Conv2D(32,kernel_size = (3,3), activation = 'relu', input_shape = (150,150,3))) \n",
    "    model.add(MaxPooling2D(2,2))\n",
    "    model.add(Flatten())\n",
    "    model.add(Dense(64,activation = 'relu'))\n",
    "    model.add(Dense(1, activation ='sigmoid'))\n",
    "    \n",
    "    model.compile(optimizer = tf.keras.optimizers.SGD(learning_rate=0.002, momentum = 0.8) , loss = 'binary_crossentropy', metrics = ['accuracy'])\n",
    "    return model\n",
    "\n",
    "# optimizer = keras.optimizers.SGD(learning_rate = 0.002, momentum =0.8)\n",
    "# loss = keras.losses.MeanSquaredError()\n",
    "# rmse = keras.metrics.RootMeanSquaredError()\n",
    "\n"
   ]
  },
  {
   "cell_type": "code",
   "execution_count": null,
   "id": "ce7d215a",
   "metadata": {},
   "outputs": [],
   "source": [
    "!pip install -q \"tqdm>=4.36.1\""
   ]
  },
  {
   "cell_type": "code",
   "execution_count": null,
   "id": "8034da54",
   "metadata": {},
   "outputs": [],
   "source": [
    "import tqdm\n",
    "from tqdm.keras import TqdmCallback"
   ]
  },
  {
   "cell_type": "code",
   "execution_count": 8,
   "id": "d0540bf9",
   "metadata": {
    "scrolled": true
   },
   "outputs": [
    {
     "name": "stdout",
     "output_type": "stream",
     "text": [
      "Model: \"sequential\"\n",
      "_________________________________________________________________\n",
      " Layer (type)                Output Shape              Param #   \n",
      "=================================================================\n",
      " conv2d (Conv2D)             (None, 148, 148, 32)      896       \n",
      "                                                                 \n",
      " max_pooling2d (MaxPooling2D  (None, 74, 74, 32)       0         \n",
      " )                                                               \n",
      "                                                                 \n",
      " flatten (Flatten)           (None, 175232)            0         \n",
      "                                                                 \n",
      " dense (Dense)               (None, 64)                11214912  \n",
      "                                                                 \n",
      " dense_1 (Dense)             (None, 1)                 65        \n",
      "                                                                 \n",
      "=================================================================\n",
      "Total params: 11,215,873\n",
      "Trainable params: 11,215,873\n",
      "Non-trainable params: 0\n",
      "_________________________________________________________________\n"
     ]
    },
    {
     "name": "stderr",
     "output_type": "stream",
     "text": [
      "2023-11-19 07:51:09.067206: I tensorflow/stream_executor/cuda/cuda_gpu_executor.cc:975] successful NUMA node read from SysFS had negative value (-1), but there must be at least one NUMA node, so returning NUMA node zero\n",
      "2023-11-19 07:51:09.074368: I tensorflow/stream_executor/cuda/cuda_gpu_executor.cc:975] successful NUMA node read from SysFS had negative value (-1), but there must be at least one NUMA node, so returning NUMA node zero\n",
      "2023-11-19 07:51:09.075122: I tensorflow/stream_executor/cuda/cuda_gpu_executor.cc:975] successful NUMA node read from SysFS had negative value (-1), but there must be at least one NUMA node, so returning NUMA node zero\n",
      "2023-11-19 07:51:09.076236: I tensorflow/core/platform/cpu_feature_guard.cc:193] This TensorFlow binary is optimized with oneAPI Deep Neural Network Library (oneDNN) to use the following CPU instructions in performance-critical operations:  AVX2 AVX512F AVX512_VNNI FMA\n",
      "To enable them in other operations, rebuild TensorFlow with the appropriate compiler flags.\n",
      "2023-11-19 07:51:09.076556: I tensorflow/stream_executor/cuda/cuda_gpu_executor.cc:975] successful NUMA node read from SysFS had negative value (-1), but there must be at least one NUMA node, so returning NUMA node zero\n",
      "2023-11-19 07:51:09.077131: I tensorflow/stream_executor/cuda/cuda_gpu_executor.cc:975] successful NUMA node read from SysFS had negative value (-1), but there must be at least one NUMA node, so returning NUMA node zero\n",
      "2023-11-19 07:51:09.077667: I tensorflow/stream_executor/cuda/cuda_gpu_executor.cc:975] successful NUMA node read from SysFS had negative value (-1), but there must be at least one NUMA node, so returning NUMA node zero\n",
      "2023-11-19 07:51:09.697893: I tensorflow/stream_executor/cuda/cuda_gpu_executor.cc:975] successful NUMA node read from SysFS had negative value (-1), but there must be at least one NUMA node, so returning NUMA node zero\n",
      "2023-11-19 07:51:09.698550: I tensorflow/stream_executor/cuda/cuda_gpu_executor.cc:975] successful NUMA node read from SysFS had negative value (-1), but there must be at least one NUMA node, so returning NUMA node zero\n",
      "2023-11-19 07:51:09.699098: I tensorflow/stream_executor/cuda/cuda_gpu_executor.cc:975] successful NUMA node read from SysFS had negative value (-1), but there must be at least one NUMA node, so returning NUMA node zero\n",
      "2023-11-19 07:51:09.699635: I tensorflow/core/common_runtime/gpu/gpu_device.cc:1532] Created device /job:localhost/replica:0/task:0/device:GPU:0 with 13795 MB memory:  -> device: 0, name: Tesla T4, pci bus id: 0000:00:1e.0, compute capability: 7.5\n"
     ]
    }
   ],
   "source": [
    "model = create_model()\n",
    "model.summary()"
   ]
  },
  {
   "cell_type": "code",
   "execution_count": 9,
   "id": "e8aa3e3c",
   "metadata": {
    "scrolled": false
   },
   "outputs": [
    {
     "name": "stdout",
     "output_type": "stream",
     "text": [
      "Epoch 1/10\n"
     ]
    },
    {
     "name": "stderr",
     "output_type": "stream",
     "text": [
      "2023-11-19 07:51:33.163127: I tensorflow/stream_executor/cuda/cuda_dnn.cc:384] Loaded cuDNN version 8100\n",
      "2023-11-19 07:51:33.794793: I tensorflow/core/platform/default/subprocess.cc:304] Start cannot spawn child process: No such file or directory\n",
      "2023-11-19 07:51:33.795276: I tensorflow/core/platform/default/subprocess.cc:304] Start cannot spawn child process: No such file or directory\n",
      "2023-11-19 07:51:33.795316: W tensorflow/stream_executor/gpu/asm_compiler.cc:80] Couldn't get ptxas version string: INTERNAL: Couldn't invoke ptxas --version\n",
      "2023-11-19 07:51:33.795832: I tensorflow/core/platform/default/subprocess.cc:304] Start cannot spawn child process: No such file or directory\n",
      "2023-11-19 07:51:33.795935: W tensorflow/stream_executor/gpu/redzone_allocator.cc:314] INTERNAL: Failed to launch ptxas\n",
      "Relying on driver to perform ptx compilation. \n",
      "Modify $PATH to customize ptxas location.\n",
      "This message will be only logged once.\n"
     ]
    },
    {
     "name": "stdout",
     "output_type": "stream",
     "text": [
      "184/184 [==============================] - 11s 48ms/step - loss: 0.6778 - accuracy: 0.5461 - val_loss: 0.6326 - val_accuracy: 0.6242\n",
      "Epoch 2/10\n",
      "184/184 [==============================] - 9s 47ms/step - loss: 0.6462 - accuracy: 0.6122 - val_loss: 0.6086 - val_accuracy: 0.6786\n",
      "Epoch 3/10\n",
      "184/184 [==============================] - 9s 47ms/step - loss: 0.6005 - accuracy: 0.6723 - val_loss: 0.5651 - val_accuracy: 0.7081\n",
      "Epoch 4/10\n",
      "184/184 [==============================] - 9s 47ms/step - loss: 0.5548 - accuracy: 0.7207 - val_loss: 0.5424 - val_accuracy: 0.7233\n",
      "Epoch 5/10\n",
      "184/184 [==============================] - 9s 46ms/step - loss: 0.5154 - accuracy: 0.7590 - val_loss: 0.5392 - val_accuracy: 0.7190\n",
      "Epoch 6/10\n",
      "184/184 [==============================] - 8s 46ms/step - loss: 0.4927 - accuracy: 0.7732 - val_loss: 0.5196 - val_accuracy: 0.7593\n",
      "Epoch 7/10\n",
      "184/184 [==============================] - 9s 47ms/step - loss: 0.4677 - accuracy: 0.7890 - val_loss: 0.5512 - val_accuracy: 0.7331\n",
      "Epoch 8/10\n",
      "184/184 [==============================] - 9s 46ms/step - loss: 0.4427 - accuracy: 0.8026 - val_loss: 0.5032 - val_accuracy: 0.7832\n",
      "Epoch 9/10\n",
      "184/184 [==============================] - 9s 47ms/step - loss: 0.4164 - accuracy: 0.8191 - val_loss: 0.5229 - val_accuracy: 0.7440\n",
      "Epoch 10/10\n",
      "184/184 [==============================] - 9s 47ms/step - loss: 0.3869 - accuracy: 0.8355 - val_loss: 0.4908 - val_accuracy: 0.7636\n"
     ]
    }
   ],
   "source": [
    "#train the model\n",
    "history = model.fit(train_ds,\n",
    "                    epochs =10,\n",
    "                    validation_data = test_ds,\n",
    "                    verbose=1\n",
    "                   )"
   ]
  },
  {
   "cell_type": "code",
   "execution_count": 10,
   "id": "c283184d",
   "metadata": {},
   "outputs": [
    {
     "data": {
      "text/plain": [
       "0.766113668680191"
      ]
     },
     "execution_count": 10,
     "metadata": {},
     "output_type": "execute_result"
    }
   ],
   "source": [
    "accuracy = history.history['accuracy']\n",
    "import numpy as np\n",
    "mean_acc = np.median(accuracy)\n",
    "mean_acc"
   ]
  },
  {
   "cell_type": "code",
   "execution_count": 11,
   "id": "f0f75a91",
   "metadata": {},
   "outputs": [
    {
     "data": {
      "text/plain": [
       "0.09296084504422028"
      ]
     },
     "execution_count": 11,
     "metadata": {},
     "output_type": "execute_result"
    }
   ],
   "source": [
    "# Question 4\n",
    "loss = history.history['loss']\n",
    "std_loss = np.std(loss)\n",
    "std_loss"
   ]
  },
  {
   "cell_type": "markdown",
   "id": "8c639e1a",
   "metadata": {},
   "source": [
    "# Data Augmetation\n"
   ]
  },
  {
   "cell_type": "code",
   "execution_count": 12,
   "id": "b29d5b5a",
   "metadata": {},
   "outputs": [
    {
     "name": "stdout",
     "output_type": "stream",
     "text": [
      "Found 3677 images belonging to 2 classes.\n"
     ]
    }
   ],
   "source": [
    "#training generator\n",
    "train_gen = ImageDataGenerator(rescale=1./255,\n",
    "                               rotation_range=50,\n",
    "                               width_shift_range=0.1,\n",
    "                               height_shift_range=0.1,\n",
    "                               zoom_range=0.1,\n",
    "                               horizontal_flip=True,\n",
    "                               fill_mode='nearest')\n",
    "train_dir = './data/train'\n",
    "train_ds = train_gen.flow_from_directory(train_dir,\n",
    "                                        batch_size = 20,                                        \n",
    "                                        target_size=(150,150),\n",
    "                                        class_mode='binary',\n",
    "                                        shuffle = True)"
   ]
  },
  {
   "cell_type": "code",
   "execution_count": 13,
   "id": "c775542d",
   "metadata": {},
   "outputs": [
    {
     "name": "stdout",
     "output_type": "stream",
     "text": [
      "Found 918 images belonging to 2 classes.\n"
     ]
    }
   ],
   "source": [
    "#create image data preprocessing for val dataset\n",
    "test_gen = ImageDataGenerator(rescale = 1./255)\n",
    "test_dir = './data/test'\n",
    "test_ds = test_gen.flow_from_directory(test_dir,\n",
    "                                       target_size=(150,150),\n",
    "                                       batch_size = 20,\n",
    "                                       class_mode='binary',\n",
    "                                       shuffle= True)"
   ]
  },
  {
   "cell_type": "code",
   "execution_count": 14,
   "id": "06ef1e32",
   "metadata": {},
   "outputs": [
    {
     "name": "stdout",
     "output_type": "stream",
     "text": [
      "Epoch 1/10\n",
      "184/184 [==============================] - 24s 130ms/step - loss: 0.4980 - accuracy: 0.7672 - val_loss: 0.5822 - val_accuracy: 0.7048\n",
      "Epoch 2/10\n",
      "184/184 [==============================] - 24s 132ms/step - loss: 0.4951 - accuracy: 0.7639 - val_loss: 0.4697 - val_accuracy: 0.7941\n",
      "Epoch 3/10\n",
      "184/184 [==============================] - 24s 131ms/step - loss: 0.4820 - accuracy: 0.7843 - val_loss: 0.5007 - val_accuracy: 0.7680\n",
      "Epoch 4/10\n",
      "184/184 [==============================] - 24s 130ms/step - loss: 0.4780 - accuracy: 0.7838 - val_loss: 0.4540 - val_accuracy: 0.8105\n",
      "Epoch 5/10\n",
      "184/184 [==============================] - 24s 130ms/step - loss: 0.4768 - accuracy: 0.7843 - val_loss: 0.5138 - val_accuracy: 0.7495\n",
      "Epoch 6/10\n",
      "184/184 [==============================] - 24s 130ms/step - loss: 0.4649 - accuracy: 0.7887 - val_loss: 0.4615 - val_accuracy: 0.7843\n",
      "Epoch 7/10\n",
      "184/184 [==============================] - 24s 131ms/step - loss: 0.4662 - accuracy: 0.7827 - val_loss: 0.4477 - val_accuracy: 0.7996\n",
      "Epoch 8/10\n",
      "184/184 [==============================] - 24s 130ms/step - loss: 0.4648 - accuracy: 0.7900 - val_loss: 0.5242 - val_accuracy: 0.7516\n",
      "Epoch 9/10\n",
      "184/184 [==============================] - 24s 130ms/step - loss: 0.4617 - accuracy: 0.7939 - val_loss: 0.5076 - val_accuracy: 0.7473\n",
      "Epoch 10/10\n",
      "184/184 [==============================] - 24s 130ms/step - loss: 0.4595 - accuracy: 0.7996 - val_loss: 0.5349 - val_accuracy: 0.7560\n"
     ]
    }
   ],
   "source": [
    "#train the model\n",
    "history = model.fit(train_ds,\n",
    "                    epochs =10,\n",
    "                    validation_data = test_ds,\n",
    "                    verbose=1\n",
    "                   )"
   ]
  },
  {
   "cell_type": "code",
   "execution_count": 15,
   "id": "83bae17b",
   "metadata": {},
   "outputs": [
    {
     "data": {
      "text/plain": [
       "0.5041687488555908"
      ]
     },
     "execution_count": 15,
     "metadata": {},
     "output_type": "execute_result"
    }
   ],
   "source": [
    "# Question 5\n",
    "loss = history.history['val_loss']\n",
    "mean_test_loss = np.median(loss)\n",
    "mean_test_loss"
   ]
  },
  {
   "cell_type": "code",
   "execution_count": 20,
   "id": "fe23d2cc",
   "metadata": {},
   "outputs": [
    {
     "data": {
      "text/plain": [
       "0.7559912800788879"
      ]
     },
     "execution_count": 20,
     "metadata": {},
     "output_type": "execute_result"
    }
   ],
   "source": [
    "# Question 6\n",
    "val_accuracy = history.history['val_accuracy']\n",
    "val_accuracy=val_accuracy[5:]\n",
    "mean_val_accuracy=np.median(val_accuracy)\n",
    "mean_val_accuracy\n",
    "# mean_test_loss = np.median(loss)\n",
    "# mean_test_loss"
   ]
  }
 ],
 "metadata": {
  "kernelspec": {
   "display_name": "saturn (Python 3)",
   "language": "python",
   "name": "python3"
  },
  "language_info": {
   "codemirror_mode": {
    "name": "ipython",
    "version": 3
   },
   "file_extension": ".py",
   "mimetype": "text/x-python",
   "name": "python",
   "nbconvert_exporter": "python",
   "pygments_lexer": "ipython3",
   "version": "3.9.13"
  }
 },
 "nbformat": 4,
 "nbformat_minor": 5
}
